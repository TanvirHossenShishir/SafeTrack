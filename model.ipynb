{
  "cells": [
    {
      "cell_type": "markdown",
      "source": [
        "# Dataset Download"
      ],
      "metadata": {
        "id": "9MsZFT5BQX-F"
      }
    },
    {
      "cell_type": "code",
      "source": [
        "!gdown 1FnF607sBYWaaLd7YyRDKLcBM2OQghDCp"
      ],
      "metadata": {
        "id": "9zhPATjCMMEe",
        "colab": {
          "base_uri": "https://localhost:8080/"
        },
        "outputId": "7a9e159d-f328-443b-daa3-5e8218e0597c"
      },
      "execution_count": null,
      "outputs": [
        {
          "output_type": "stream",
          "name": "stdout",
          "text": [
            "Downloading...\n",
            "From: https://drive.google.com/uc?id=1FnF607sBYWaaLd7YyRDKLcBM2OQghDCp\n",
            "To: /content/archive.zip\n",
            "100% 346M/346M [00:01<00:00, 179MB/s]\n"
          ]
        }
      ]
    },
    {
      "cell_type": "code",
      "execution_count": null,
      "metadata": {
        "id": "QG73_7jhQNdr"
      },
      "outputs": [],
      "source": [
        "from zipfile import ZipFile"
      ]
    },
    {
      "cell_type": "code",
      "execution_count": null,
      "metadata": {
        "id": "w7E71z2vQZsm"
      },
      "outputs": [],
      "source": [
        "with ZipFile('/content/archive.zip', 'r') as zipObj:\n",
        "\tzipObj.extractall('/content/')"
      ]
    },
    {
      "cell_type": "code",
      "source": [
        "import os\n",
        "import cv2\n",
        "import numpy as np\n",
        "\n",
        "Data = \"/content/data/train/\"\n",
        "Classes = [\"close eyes\", \"open eyes\"]\n",
        "\n",
        "X = []\n",
        "y = []\n",
        "data_limit = 24000\n",
        "img_size = 64\n",
        "\n",
        "def create_training_data():\n",
        "    count = 0\n",
        "    category_count = [0, 0]\n",
        "    for category in Classes:\n",
        "        path = os.path.join(Data, category)\n",
        "        class_num = Classes.index(category)\n",
        "        for img in os.listdir(path):\n",
        "            try:\n",
        "                if count >= data_limit:\n",
        "                    return\n",
        "\n",
        "                if category_count[class_num] >= data_limit // 2:\n",
        "                    continue\n",
        "\n",
        "                img_array = cv2.imread(os.path.join(path, img), cv2.IMREAD_GRAYSCALE)\n",
        "                new_array = cv2.resize(img_array, (img_size, img_size))\n",
        "                new_array = np.expand_dims(new_array, axis=-1)\n",
        "\n",
        "                X.append(new_array)\n",
        "                y.append(class_num)\n",
        "\n",
        "                count += 1\n",
        "                category_count[class_num] += 1\n",
        "            except Exception as e:\n",
        "                print(e)\n",
        "\n",
        "create_training_data()\n",
        "\n",
        "X = np.array(X)\n",
        "X = X / 255.0\n",
        "X = (np.array(X) - np.min(X)) / (np.max(X) - np.min(X))\n",
        "Y = np.array(y)"
      ],
      "metadata": {
        "id": "TMPYRjpLx4yK"
      },
      "execution_count": 11,
      "outputs": []
    },
    {
      "cell_type": "code",
      "source": [
        "import tensorflow as tf\n",
        "from tensorflow.keras.models import Sequential\n",
        "from tensorflow.keras.layers import Dense, Input, Conv2D, BatchNormalization, MaxPooling2D,Dropout, Flatten\n",
        "\n",
        "model = tf.keras.models.Sequential([\n",
        "      Input(shape=(64, 64, 1)),\n",
        "\n",
        "      Conv2D(filters = 32, kernel_size = 5, strides = 1, activation = 'relu'),\n",
        "      Conv2D(filters = 32, kernel_size = 5, strides = 1, activation = 'relu', use_bias=False),\n",
        "      BatchNormalization(),\n",
        "      MaxPooling2D(strides = 2),\n",
        "      Dropout(0.3),\n",
        "\n",
        "      Conv2D(filters = 64, kernel_size = 3, strides = 1, activation = 'relu'),\n",
        "      Conv2D(filters = 64, kernel_size = 3, strides = 1, activation = 'relu', use_bias=False),\n",
        "      BatchNormalization(),\n",
        "      MaxPooling2D(strides = 2),\n",
        "      Dropout(0.3),\n",
        "\n",
        "      Flatten(),\n",
        "      Dense(units  = 256, activation = 'relu', use_bias=False),\n",
        "      BatchNormalization(),\n",
        "\n",
        "      Dense(units = 128, use_bias=False, activation = 'relu'),\n",
        "\n",
        "      Dense(units = 84, use_bias=False, activation = 'relu'),\n",
        "      BatchNormalization(),\n",
        "      Dropout(0.3),\n",
        "\n",
        "      Dense(units = 1, activation = 'sigmoid')\n",
        "  ])"
      ],
      "metadata": {
        "id": "2gr-BeGZzT64"
      },
      "execution_count": 12,
      "outputs": []
    },
    {
      "cell_type": "code",
      "source": [
        "model.compile(loss='binary_crossentropy',optimizer='adam', metrics=['accuracy'])"
      ],
      "metadata": {
        "id": "cQMk7e1xyUqC"
      },
      "execution_count": 13,
      "outputs": []
    },
    {
      "cell_type": "code",
      "source": [
        "from sklearn.model_selection import train_test_split\n",
        "x_train, x_test, y_train, y_test = train_test_split(X, Y, test_size=0.33, random_state=42)"
      ],
      "metadata": {
        "id": "meZw-K2ozpG2"
      },
      "execution_count": 14,
      "outputs": []
    },
    {
      "cell_type": "code",
      "source": [
        "callback = tf.keras.callbacks.ModelCheckpoint(\n",
        "    filepath='model.h5',\n",
        "    save_weights_only=False,\n",
        "    monitor='val_loss',\n",
        "    mode='min',\n",
        "    save_best_only=True,\n",
        "    verbose =1)\n",
        "model.fit(x_train, y_train, validation_split=0.2, epochs=30, batch_size=32, callbacks=callback)"
      ],
      "metadata": {
        "id": "LvaXBZTQymO-",
        "colab": {
          "base_uri": "https://localhost:8080/"
        },
        "outputId": "b86f2c65-507f-4d64-b6ce-f3f09b6882db"
      },
      "execution_count": 15,
      "outputs": [
        {
          "output_type": "stream",
          "name": "stdout",
          "text": [
            "Epoch 1/30\n",
            "398/402 [============================>.] - ETA: 0s - loss: 0.2399 - accuracy: 0.9066\n",
            "Epoch 1: val_loss improved from inf to 0.46950, saving model to model.h5\n",
            "402/402 [==============================] - 10s 14ms/step - loss: 0.2403 - accuracy: 0.9063 - val_loss: 0.4695 - val_accuracy: 0.7764\n",
            "Epoch 2/30\n",
            "401/402 [============================>.] - ETA: 0s - loss: 0.1281 - accuracy: 0.9523\n",
            "Epoch 2: val_loss improved from 0.46950 to 0.37449, saving model to model.h5\n",
            "402/402 [==============================] - 6s 16ms/step - loss: 0.1279 - accuracy: 0.9524 - val_loss: 0.3745 - val_accuracy: 0.8212\n",
            "Epoch 3/30\n",
            "400/402 [============================>.] - ETA: 0s - loss: 0.1006 - accuracy: 0.9653\n",
            "Epoch 3: val_loss did not improve from 0.37449\n",
            "402/402 [==============================] - 6s 14ms/step - loss: 0.1006 - accuracy: 0.9653 - val_loss: 0.9271 - val_accuracy: 0.7425\n",
            "Epoch 4/30\n",
            "402/402 [==============================] - ETA: 0s - loss: 0.0894 - accuracy: 0.9691\n",
            "Epoch 4: val_loss did not improve from 0.37449\n",
            "402/402 [==============================] - 6s 14ms/step - loss: 0.0894 - accuracy: 0.9691 - val_loss: 0.7534 - val_accuracy: 0.6688\n",
            "Epoch 5/30\n",
            "400/402 [============================>.] - ETA: 0s - loss: 0.0802 - accuracy: 0.9732\n",
            "Epoch 5: val_loss improved from 0.37449 to 0.16165, saving model to model.h5\n",
            "402/402 [==============================] - 6s 14ms/step - loss: 0.0811 - accuracy: 0.9730 - val_loss: 0.1617 - val_accuracy: 0.9275\n",
            "Epoch 6/30\n",
            "399/402 [============================>.] - ETA: 0s - loss: 0.0604 - accuracy: 0.9780\n",
            "Epoch 6: val_loss did not improve from 0.16165\n",
            "402/402 [==============================] - 6s 14ms/step - loss: 0.0610 - accuracy: 0.9779 - val_loss: 0.2183 - val_accuracy: 0.9067\n",
            "Epoch 7/30\n",
            "400/402 [============================>.] - ETA: 0s - loss: 0.0730 - accuracy: 0.9748\n",
            "Epoch 7: val_loss did not improve from 0.16165\n",
            "402/402 [==============================] - 6s 14ms/step - loss: 0.0733 - accuracy: 0.9748 - val_loss: 1.5197 - val_accuracy: 0.6841\n",
            "Epoch 8/30\n",
            "401/402 [============================>.] - ETA: 0s - loss: 0.0595 - accuracy: 0.9797\n",
            "Epoch 8: val_loss improved from 0.16165 to 0.07782, saving model to model.h5\n",
            "402/402 [==============================] - 6s 14ms/step - loss: 0.0595 - accuracy: 0.9796 - val_loss: 0.0778 - val_accuracy: 0.9736\n",
            "Epoch 9/30\n",
            "398/402 [============================>.] - ETA: 0s - loss: 0.0531 - accuracy: 0.9813\n",
            "Epoch 9: val_loss did not improve from 0.07782\n",
            "402/402 [==============================] - 6s 14ms/step - loss: 0.0532 - accuracy: 0.9812 - val_loss: 0.3764 - val_accuracy: 0.8877\n",
            "Epoch 10/30\n",
            "400/402 [============================>.] - ETA: 0s - loss: 0.0500 - accuracy: 0.9824\n",
            "Epoch 10: val_loss did not improve from 0.07782\n",
            "402/402 [==============================] - 6s 14ms/step - loss: 0.0503 - accuracy: 0.9820 - val_loss: 2.0260 - val_accuracy: 0.6371\n",
            "Epoch 11/30\n",
            "401/402 [============================>.] - ETA: 0s - loss: 0.0783 - accuracy: 0.9713\n",
            "Epoch 11: val_loss did not improve from 0.07782\n",
            "402/402 [==============================] - 6s 14ms/step - loss: 0.0781 - accuracy: 0.9713 - val_loss: 2.3615 - val_accuracy: 0.5165\n",
            "Epoch 12/30\n",
            "399/402 [============================>.] - ETA: 0s - loss: 0.0631 - accuracy: 0.9782\n",
            "Epoch 12: val_loss did not improve from 0.07782\n",
            "402/402 [==============================] - 5s 13ms/step - loss: 0.0635 - accuracy: 0.9782 - val_loss: 0.1852 - val_accuracy: 0.9372\n",
            "Epoch 13/30\n",
            "400/402 [============================>.] - ETA: 0s - loss: 0.0421 - accuracy: 0.9855\n",
            "Epoch 13: val_loss did not improve from 0.07782\n",
            "402/402 [==============================] - 6s 14ms/step - loss: 0.0423 - accuracy: 0.9855 - val_loss: 0.1097 - val_accuracy: 0.9661\n",
            "Epoch 14/30\n",
            "400/402 [============================>.] - ETA: 0s - loss: 0.0423 - accuracy: 0.9846\n",
            "Epoch 14: val_loss did not improve from 0.07782\n",
            "402/402 [==============================] - 5s 14ms/step - loss: 0.0422 - accuracy: 0.9847 - val_loss: 0.1198 - val_accuracy: 0.9611\n",
            "Epoch 15/30\n",
            "400/402 [============================>.] - ETA: 0s - loss: 0.0279 - accuracy: 0.9903\n",
            "Epoch 15: val_loss improved from 0.07782 to 0.07257, saving model to model.h5\n",
            "402/402 [==============================] - 6s 14ms/step - loss: 0.0278 - accuracy: 0.9904 - val_loss: 0.0726 - val_accuracy: 0.9776\n",
            "Epoch 16/30\n",
            "399/402 [============================>.] - ETA: 0s - loss: 0.0311 - accuracy: 0.9898\n",
            "Epoch 16: val_loss improved from 0.07257 to 0.06699, saving model to model.h5\n",
            "402/402 [==============================] - 6s 15ms/step - loss: 0.0311 - accuracy: 0.9897 - val_loss: 0.0670 - val_accuracy: 0.9817\n",
            "Epoch 17/30\n",
            "400/402 [============================>.] - ETA: 0s - loss: 0.0276 - accuracy: 0.9909\n",
            "Epoch 17: val_loss did not improve from 0.06699\n",
            "402/402 [==============================] - 5s 13ms/step - loss: 0.0275 - accuracy: 0.9910 - val_loss: 0.0867 - val_accuracy: 0.9785\n",
            "Epoch 18/30\n",
            "402/402 [==============================] - ETA: 0s - loss: 0.0253 - accuracy: 0.9917\n",
            "Epoch 18: val_loss did not improve from 0.06699\n",
            "402/402 [==============================] - 6s 15ms/step - loss: 0.0253 - accuracy: 0.9917 - val_loss: 0.0801 - val_accuracy: 0.9779\n",
            "Epoch 19/30\n",
            "399/402 [============================>.] - ETA: 0s - loss: 0.0311 - accuracy: 0.9891\n",
            "Epoch 19: val_loss did not improve from 0.06699\n",
            "402/402 [==============================] - 5s 13ms/step - loss: 0.0311 - accuracy: 0.9891 - val_loss: 0.1788 - val_accuracy: 0.9415\n",
            "Epoch 20/30\n",
            "399/402 [============================>.] - ETA: 0s - loss: 0.0238 - accuracy: 0.9919\n",
            "Epoch 20: val_loss did not improve from 0.06699\n",
            "402/402 [==============================] - 6s 14ms/step - loss: 0.0236 - accuracy: 0.9920 - val_loss: 0.0784 - val_accuracy: 0.9789\n",
            "Epoch 21/30\n",
            "399/402 [============================>.] - ETA: 0s - loss: 0.0251 - accuracy: 0.9919\n",
            "Epoch 21: val_loss did not improve from 0.06699\n",
            "402/402 [==============================] - 6s 14ms/step - loss: 0.0254 - accuracy: 0.9918 - val_loss: 0.0764 - val_accuracy: 0.9792\n",
            "Epoch 22/30\n",
            "400/402 [============================>.] - ETA: 0s - loss: 0.0290 - accuracy: 0.9896\n",
            "Epoch 22: val_loss did not improve from 0.06699\n",
            "402/402 [==============================] - 6s 14ms/step - loss: 0.0289 - accuracy: 0.9897 - val_loss: 0.8860 - val_accuracy: 0.6934\n",
            "Epoch 23/30\n",
            "398/402 [============================>.] - ETA: 0s - loss: 0.0247 - accuracy: 0.9913\n",
            "Epoch 23: val_loss did not improve from 0.06699\n",
            "402/402 [==============================] - 6s 14ms/step - loss: 0.0250 - accuracy: 0.9912 - val_loss: 0.4333 - val_accuracy: 0.8004\n",
            "Epoch 24/30\n",
            "402/402 [==============================] - ETA: 0s - loss: 0.0276 - accuracy: 0.9915\n",
            "Epoch 24: val_loss did not improve from 0.06699\n",
            "402/402 [==============================] - 6s 14ms/step - loss: 0.0276 - accuracy: 0.9915 - val_loss: 0.0694 - val_accuracy: 0.9817\n",
            "Epoch 25/30\n",
            "402/402 [==============================] - ETA: 0s - loss: 0.0310 - accuracy: 0.9894\n",
            "Epoch 25: val_loss did not improve from 0.06699\n",
            "402/402 [==============================] - 6s 14ms/step - loss: 0.0310 - accuracy: 0.9894 - val_loss: 0.0806 - val_accuracy: 0.9773\n",
            "Epoch 26/30\n",
            "399/402 [============================>.] - ETA: 0s - loss: 0.0250 - accuracy: 0.9922\n",
            "Epoch 26: val_loss did not improve from 0.06699\n",
            "402/402 [==============================] - 6s 14ms/step - loss: 0.0249 - accuracy: 0.9923 - val_loss: 0.1126 - val_accuracy: 0.9683\n",
            "Epoch 27/30\n",
            "402/402 [==============================] - ETA: 0s - loss: 0.0186 - accuracy: 0.9938\n",
            "Epoch 27: val_loss did not improve from 0.06699\n",
            "402/402 [==============================] - 6s 14ms/step - loss: 0.0186 - accuracy: 0.9938 - val_loss: 0.1882 - val_accuracy: 0.9443\n",
            "Epoch 28/30\n",
            "399/402 [============================>.] - ETA: 0s - loss: 0.0254 - accuracy: 0.9918\n",
            "Epoch 28: val_loss did not improve from 0.06699\n",
            "402/402 [==============================] - 5s 13ms/step - loss: 0.0264 - accuracy: 0.9915 - val_loss: 0.5998 - val_accuracy: 0.7848\n",
            "Epoch 29/30\n",
            "401/402 [============================>.] - ETA: 0s - loss: 0.0455 - accuracy: 0.9843\n",
            "Epoch 29: val_loss did not improve from 0.06699\n",
            "402/402 [==============================] - 6s 14ms/step - loss: 0.0455 - accuracy: 0.9844 - val_loss: 0.0857 - val_accuracy: 0.9736\n",
            "Epoch 30/30\n",
            "399/402 [============================>.] - ETA: 0s - loss: 0.0292 - accuracy: 0.9894\n",
            "Epoch 30: val_loss did not improve from 0.06699\n",
            "402/402 [==============================] - 5s 14ms/step - loss: 0.0294 - accuracy: 0.9894 - val_loss: 0.1334 - val_accuracy: 0.9605\n"
          ]
        },
        {
          "output_type": "execute_result",
          "data": {
            "text/plain": [
              "<keras.callbacks.History at 0x7facb2d4a6b0>"
            ]
          },
          "metadata": {},
          "execution_count": 15
        }
      ]
    },
    {
      "cell_type": "code",
      "source": [
        "model.evaluate(x_test, y_test)"
      ],
      "metadata": {
        "id": "cO20Y-Rmypz7",
        "colab": {
          "base_uri": "https://localhost:8080/"
        },
        "outputId": "868ecbe4-92a9-41f9-9b85-19679c822781"
      },
      "execution_count": 10,
      "outputs": [
        {
          "output_type": "stream",
          "name": "stdout",
          "text": [
            "83/83 [==============================] - 0s 5ms/step - loss: 0.1504 - accuracy: 0.9436\n"
          ]
        },
        {
          "output_type": "execute_result",
          "data": {
            "text/plain": [
              "[0.15037082135677338, 0.9435606002807617]"
            ]
          },
          "metadata": {},
          "execution_count": 10
        }
      ]
    }
  ],
  "metadata": {
    "accelerator": "GPU",
    "colab": {
      "provenance": [],
      "gpuType": "T4"
    },
    "kernelspec": {
      "display_name": "Python 3",
      "name": "python3"
    },
    "language_info": {
      "name": "python"
    }
  },
  "nbformat": 4,
  "nbformat_minor": 0
}